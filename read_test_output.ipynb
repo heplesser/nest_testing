{
 "cells": [
  {
   "cell_type": "code",
   "execution_count": 1,
   "id": "ec0e0ddb-1b6a-4e64-83a9-d306f724a5af",
   "metadata": {
    "tags": []
   },
   "outputs": [],
   "source": [
    "import pandas as pd"
   ]
  },
  {
   "cell_type": "code",
   "execution_count": 2,
   "id": "cbc3c399-04cb-4530-a31e-3e8bdb94c744",
   "metadata": {
    "tags": []
   },
   "outputs": [],
   "source": [
    "import pickle"
   ]
  },
  {
   "cell_type": "code",
   "execution_count": 13,
   "id": "b4d2d6d9-181b-48a2-a4b4-09a163dd4d37",
   "metadata": {
    "tags": []
   },
   "outputs": [],
   "source": [
    "d10 = pickle.load(open('foo/1-0', 'rb'))\n",
    "d20 = pickle.load(open('foo/2-0', 'rb'))\n",
    "d21 = pickle.load(open('foo/2-1', 'rb'))"
   ]
  },
  {
   "cell_type": "code",
   "execution_count": 14,
   "id": "563c30aa-1e96-4e4e-b765-4af1c6e76dc0",
   "metadata": {
    "tags": []
   },
   "outputs": [],
   "source": [
    "d10.sort_values('senders', inplace=True, ignore_index=True)\n",
    "d2 = pd.concat([d20, d21], ignore_index=True).sort_values('senders', ignore_index=True)"
   ]
  },
  {
   "cell_type": "code",
   "execution_count": 15,
   "id": "6a89fb72-fcb0-4a6b-b846-c27f73bc44f9",
   "metadata": {
    "tags": []
   },
   "outputs": [
    {
     "data": {
      "text/plain": [
       "(100, 117)"
      ]
     },
     "execution_count": 15,
     "metadata": {},
     "output_type": "execute_result"
    }
   ],
   "source": [
    "len(d10), len(d2)"
   ]
  },
  {
   "cell_type": "code",
   "execution_count": null,
   "id": "5359fccf-1d1f-4e8b-b4e5-32123b83b10e",
   "metadata": {},
   "outputs": [],
   "source": []
  }
 ],
 "metadata": {
  "kernelspec": {
   "display_name": "Python 3 (ipykernel)",
   "language": "python",
   "name": "python3"
  },
  "language_info": {
   "codemirror_mode": {
    "name": "ipython",
    "version": 3
   },
   "file_extension": ".py",
   "mimetype": "text/x-python",
   "name": "python",
   "nbconvert_exporter": "python",
   "pygments_lexer": "ipython3",
   "version": "3.9.16"
  }
 },
 "nbformat": 4,
 "nbformat_minor": 5
}
