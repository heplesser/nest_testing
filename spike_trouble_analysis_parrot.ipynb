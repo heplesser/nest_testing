{
 "cells": [
  {
   "cell_type": "code",
   "execution_count": 1,
   "id": "02e50415-1588-4e2e-9d35-21a6a5109fe0",
   "metadata": {
    "tags": []
   },
   "outputs": [],
   "source": [
    "import pandas as pd"
   ]
  },
  {
   "cell_type": "code",
   "execution_count": 3,
   "id": "098ac883-32f8-4545-9620-192cebd7a79e",
   "metadata": {
    "tags": []
   },
   "outputs": [],
   "source": [
    "d1 = pd.read_csv('data/dm_01_all.csv').set_index(['times']).sort_index()\n",
    "d2 = pd.read_csv('data/dm_02_all.csv').set_index(['times']).sort_index()"
   ]
  },
  {
   "cell_type": "code",
   "execution_count": 4,
   "id": "9578f78f-e3a1-4e99-b6b5-65afb93e988f",
   "metadata": {
    "tags": []
   },
   "outputs": [
    {
     "data": {
      "text/plain": [
       "50"
      ]
     },
     "execution_count": 4,
     "metadata": {},
     "output_type": "execute_result"
    }
   ],
   "source": [
    "len(d2.loc[0.2].sort_values('senders'))"
   ]
  },
  {
   "cell_type": "code",
   "execution_count": 5,
   "id": "da8e8909-d0c3-4c38-813e-e41826351409",
   "metadata": {
    "tags": []
   },
   "outputs": [],
   "source": [
    "s3_1 = d1.loc[0.3].sort_values('senders')\n",
    "s3_2 = d2.loc[0.3].sort_values('senders')"
   ]
  },
  {
   "cell_type": "code",
   "execution_count": 6,
   "id": "a6ca3337-4eb5-403e-90c5-cb89d4b9578f",
   "metadata": {
    "tags": []
   },
   "outputs": [],
   "source": [
    "eq_next = s3_2.iloc[1:].senders == s3_2.iloc[:-1].senders"
   ]
  },
  {
   "cell_type": "code",
   "execution_count": 10,
   "id": "561fe4e1-9092-452a-8c3a-f24ef2765186",
   "metadata": {
    "tags": []
   },
   "outputs": [
    {
     "data": {
      "text/plain": [
       "times\n",
       "0.3     1\n",
       "0.3     6\n",
       "0.3     8\n",
       "0.3    13\n",
       "0.3    15\n",
       "0.3    22\n",
       "0.3    24\n",
       "0.3    27\n",
       "0.3    31\n",
       "0.3    33\n",
       "0.3    40\n",
       "0.3    41\n",
       "0.3    42\n",
       "0.3    44\n",
       "0.3    46\n",
       "0.3    47\n",
       "0.3    49\n",
       "Name: senders, dtype: int64"
      ]
     },
     "execution_count": 10,
     "metadata": {},
     "output_type": "execute_result"
    }
   ],
   "source": [
    "s3_2.iloc[1:].loc[eq_next].senders"
   ]
  },
  {
   "cell_type": "code",
   "execution_count": 12,
   "id": "47f378d4-8641-4860-9979-f2221c4885b4",
   "metadata": {
    "tags": []
   },
   "outputs": [],
   "source": [
    "bad_sources = [10, 49, 41, 41, 9, 44, 19, 46, 9, 25, 11, 33, 46, 37,\n",
    "               36, 27, 45, 29, 15, 27, 21, 50, 27, 38, 3, 5, 38, 3,\n",
    "               41, 49, 42, 37, 36, 45, 5, 3, 21, 29, 9, 30, 34, 40,\n",
    "               35, 44, 41, 48, 44, 27, 36, 47]"
   ]
  },
  {
   "cell_type": "code",
   "execution_count": 13,
   "id": "bc5f0b65-b97d-4592-b470-62d2db3685f6",
   "metadata": {
    "tags": []
   },
   "outputs": [],
   "source": [
    "good_sources = [45, 50, 37, 13, 47, 29, 9, 46, 15, 10, 15, 38, 34,\n",
    "                29, 47, 45, 14, 23, 35, 1, 44, 3, 20, 46, 46, 13, 3,\n",
    "                49, 3, 48, 5, 9, 15, 28, 30, 25, 40, 30, 16, 3, 40,\n",
    "                40, 24, 40, 40, 17, 50, 32, 43, 42 ]"
   ]
  },
  {
   "cell_type": "code",
   "execution_count": 14,
   "id": "ea2037da-c592-4a9c-8078-06d483884c34",
   "metadata": {
    "tags": []
   },
   "outputs": [],
   "source": [
    "tgts = list(range(1, 51))"
   ]
  },
  {
   "cell_type": "code",
   "execution_count": 19,
   "id": "e9e4628e-5f90-4060-b6d4-09d7a0785456",
   "metadata": {
    "tags": []
   },
   "outputs": [],
   "source": [
    "bad = pd.DataFrame(zip(bad_sources, tgts), columns=['Src', 'Tgt'])\n",
    "good = pd.DataFrame(zip(good_sources, tgts), columns=['Src', 'Tgt'])"
   ]
  },
  {
   "cell_type": "code",
   "execution_count": 23,
   "id": "fe7476a9-100b-4b69-953d-6475e9b4ffd2",
   "metadata": {
    "tags": []
   },
   "outputs": [],
   "source": [
    "def add_vp(conns):\n",
    "    conns['Sv'] = conns.Src % 4\n",
    "    conns['Tv'] = conns.Tgt % 4\n",
    "\n",
    "    conns['Sr'] = conns.Sv % 2\n",
    "    conns['Tr'] = conns.Tv % 2\n",
    "\n",
    "    conns['St'] = (conns.Sv // 2) % 2\n",
    "    conns['Tt'] = (conns.Tv // 2) % 2\n",
    "    \n",
    "    return conns"
   ]
  },
  {
   "cell_type": "code",
   "execution_count": 25,
   "id": "5224fff8-af34-4e84-b6dd-2beb05f0d09d",
   "metadata": {
    "tags": []
   },
   "outputs": [],
   "source": [
    "bad = add_vp(bad)\n",
    "good = add_vp(good)"
   ]
  },
  {
   "cell_type": "code",
   "execution_count": 29,
   "id": "80c21c69-d3cf-45b4-83c2-5deae3900c2f",
   "metadata": {
    "tags": []
   },
   "outputs": [
    {
     "name": "stdout",
     "output_type": "stream",
     "text": [
      "0 0 8\n",
      "0 1 9\n",
      "1 0 17\n",
      "1 1 16\n"
     ]
    }
   ],
   "source": [
    "for fr in range(2):\n",
    "    for tr in range(2):\n",
    "        print(fr, tr, sum((bad.Sr == fr) & (bad.Tr == tr)))"
   ]
  },
  {
   "cell_type": "code",
   "execution_count": 30,
   "id": "2b33b3a8-5428-422c-a0aa-136dc3364c62",
   "metadata": {
    "tags": []
   },
   "outputs": [
    {
     "name": "stdout",
     "output_type": "stream",
     "text": [
      "0 0 12\n",
      "0 1 12\n",
      "1 0 13\n",
      "1 1 13\n"
     ]
    }
   ],
   "source": [
    "for fr in range(2):\n",
    "    for tr in range(2):\n",
    "        print(fr, tr, sum((good.Sr == fr) & (good.Tr == tr)))"
   ]
  },
  {
   "cell_type": "code",
   "execution_count": 33,
   "id": "c0df12c6-355a-4665-8950-6114239d4ece",
   "metadata": {
    "tags": []
   },
   "outputs": [
    {
     "data": {
      "text/plain": [
       "32"
      ]
     },
     "execution_count": 33,
     "metadata": {},
     "output_type": "execute_result"
    }
   ],
   "source": [
    "len(set(good_sources))"
   ]
  },
  {
   "cell_type": "code",
   "execution_count": 34,
   "id": "958afb57-0648-40d5-b418-d79dc9daf600",
   "metadata": {
    "tags": []
   },
   "outputs": [
    {
     "data": {
      "text/plain": [
       "28"
      ]
     },
     "execution_count": 34,
     "metadata": {},
     "output_type": "execute_result"
    }
   ],
   "source": [
    "len(set(bad_sources))"
   ]
  },
  {
   "cell_type": "code",
   "execution_count": null,
   "id": "f040f34a-079d-4dc1-b9ec-c0f5d5253ae3",
   "metadata": {},
   "outputs": [],
   "source": []
  },
  {
   "cell_type": "code",
   "execution_count": 70,
   "id": "ca433d2e-ac99-4c1e-bfdd-f7eb53527f0a",
   "metadata": {
    "tags": []
   },
   "outputs": [],
   "source": [
    "def stt(ct, nvp, nmpi):\n",
    "    ct = ct.copy()\n",
    "    ct['Tr'] = ct.apply(lambda r: (r.Tgt % nvp) % nmpi, axis=1)\n",
    "    ct = pd.DataFrame(list(ct.groupby(['Src', 'Tr']).Tgt.count().index.values), columns=['sn', 'tr'])\n",
    "    ct['sr'] = ct.apply(lambda r: (r.sn % nvp) % nmpi, axis=1)\n",
    "    return ct.groupby(['sr', 'tr']).count()"
   ]
  },
  {
   "cell_type": "code",
   "execution_count": 71,
   "id": "cb5014f5-e6f1-45bc-a5d5-50debd350b76",
   "metadata": {
    "tags": []
   },
   "outputs": [
    {
     "data": {
      "text/html": [
       "<div>\n",
       "<style scoped>\n",
       "    .dataframe tbody tr th:only-of-type {\n",
       "        vertical-align: middle;\n",
       "    }\n",
       "\n",
       "    .dataframe tbody tr th {\n",
       "        vertical-align: top;\n",
       "    }\n",
       "\n",
       "    .dataframe thead th {\n",
       "        text-align: right;\n",
       "    }\n",
       "</style>\n",
       "<table border=\"1\" class=\"dataframe\">\n",
       "  <thead>\n",
       "    <tr style=\"text-align: right;\">\n",
       "      <th></th>\n",
       "      <th></th>\n",
       "      <th>sn</th>\n",
       "    </tr>\n",
       "    <tr>\n",
       "      <th>sr</th>\n",
       "      <th>tr</th>\n",
       "      <th></th>\n",
       "    </tr>\n",
       "  </thead>\n",
       "  <tbody>\n",
       "    <tr>\n",
       "      <th rowspan=\"2\" valign=\"top\">0</th>\n",
       "      <th>0</th>\n",
       "      <td>7</td>\n",
       "    </tr>\n",
       "    <tr>\n",
       "      <th>1</th>\n",
       "      <td>7</td>\n",
       "    </tr>\n",
       "    <tr>\n",
       "      <th rowspan=\"2\" valign=\"top\">1</th>\n",
       "      <th>0</th>\n",
       "      <td>11</td>\n",
       "    </tr>\n",
       "    <tr>\n",
       "      <th>1</th>\n",
       "      <td>11</td>\n",
       "    </tr>\n",
       "  </tbody>\n",
       "</table>\n",
       "</div>"
      ],
      "text/plain": [
       "       sn\n",
       "sr tr    \n",
       "0  0    7\n",
       "   1    7\n",
       "1  0   11\n",
       "   1   11"
      ]
     },
     "execution_count": 71,
     "metadata": {},
     "output_type": "execute_result"
    }
   ],
   "source": [
    "stt(bad, 4, 2)"
   ]
  },
  {
   "cell_type": "code",
   "execution_count": 72,
   "id": "6d63115d-25f5-43e7-867a-69ec2de276f6",
   "metadata": {
    "tags": []
   },
   "outputs": [
    {
     "data": {
      "text/html": [
       "<div>\n",
       "<style scoped>\n",
       "    .dataframe tbody tr th:only-of-type {\n",
       "        vertical-align: middle;\n",
       "    }\n",
       "\n",
       "    .dataframe tbody tr th {\n",
       "        vertical-align: top;\n",
       "    }\n",
       "\n",
       "    .dataframe thead th {\n",
       "        text-align: right;\n",
       "    }\n",
       "</style>\n",
       "<table border=\"1\" class=\"dataframe\">\n",
       "  <thead>\n",
       "    <tr style=\"text-align: right;\">\n",
       "      <th></th>\n",
       "      <th></th>\n",
       "      <th>sn</th>\n",
       "    </tr>\n",
       "    <tr>\n",
       "      <th>sr</th>\n",
       "      <th>tr</th>\n",
       "      <th></th>\n",
       "    </tr>\n",
       "  </thead>\n",
       "  <tbody>\n",
       "    <tr>\n",
       "      <th rowspan=\"2\" valign=\"top\">0</th>\n",
       "      <th>0</th>\n",
       "      <td>10</td>\n",
       "    </tr>\n",
       "    <tr>\n",
       "      <th>1</th>\n",
       "      <td>10</td>\n",
       "    </tr>\n",
       "    <tr>\n",
       "      <th rowspan=\"2\" valign=\"top\">1</th>\n",
       "      <th>0</th>\n",
       "      <td>10</td>\n",
       "    </tr>\n",
       "    <tr>\n",
       "      <th>1</th>\n",
       "      <td>9</td>\n",
       "    </tr>\n",
       "  </tbody>\n",
       "</table>\n",
       "</div>"
      ],
      "text/plain": [
       "       sn\n",
       "sr tr    \n",
       "0  0   10\n",
       "   1   10\n",
       "1  0   10\n",
       "   1    9"
      ]
     },
     "execution_count": 72,
     "metadata": {},
     "output_type": "execute_result"
    }
   ],
   "source": [
    "stt(good, 4, 2)"
   ]
  },
  {
   "cell_type": "code",
   "execution_count": 73,
   "id": "8e65e3a4-8a41-4376-9b31-0bafb739af49",
   "metadata": {
    "tags": []
   },
   "outputs": [
    {
     "data": {
      "text/html": [
       "<div>\n",
       "<style scoped>\n",
       "    .dataframe tbody tr th:only-of-type {\n",
       "        vertical-align: middle;\n",
       "    }\n",
       "\n",
       "    .dataframe tbody tr th {\n",
       "        vertical-align: top;\n",
       "    }\n",
       "\n",
       "    .dataframe thead th {\n",
       "        text-align: right;\n",
       "    }\n",
       "</style>\n",
       "<table border=\"1\" class=\"dataframe\">\n",
       "  <thead>\n",
       "    <tr style=\"text-align: right;\">\n",
       "      <th></th>\n",
       "      <th></th>\n",
       "      <th>sn</th>\n",
       "    </tr>\n",
       "    <tr>\n",
       "      <th>sr</th>\n",
       "      <th>tr</th>\n",
       "      <th></th>\n",
       "    </tr>\n",
       "  </thead>\n",
       "  <tbody>\n",
       "    <tr>\n",
       "      <th>0</th>\n",
       "      <th>0</th>\n",
       "      <td>32</td>\n",
       "    </tr>\n",
       "  </tbody>\n",
       "</table>\n",
       "</div>"
      ],
      "text/plain": [
       "       sn\n",
       "sr tr    \n",
       "0  0   32"
      ]
     },
     "execution_count": 73,
     "metadata": {},
     "output_type": "execute_result"
    }
   ],
   "source": [
    "stt(good, 4, 1)"
   ]
  },
  {
   "cell_type": "code",
   "execution_count": 74,
   "id": "ffe0dd82-920a-456a-8d2b-eab27b214863",
   "metadata": {
    "tags": []
   },
   "outputs": [
    {
     "data": {
      "text/html": [
       "<div>\n",
       "<style scoped>\n",
       "    .dataframe tbody tr th:only-of-type {\n",
       "        vertical-align: middle;\n",
       "    }\n",
       "\n",
       "    .dataframe tbody tr th {\n",
       "        vertical-align: top;\n",
       "    }\n",
       "\n",
       "    .dataframe thead th {\n",
       "        text-align: right;\n",
       "    }\n",
       "</style>\n",
       "<table border=\"1\" class=\"dataframe\">\n",
       "  <thead>\n",
       "    <tr style=\"text-align: right;\">\n",
       "      <th></th>\n",
       "      <th></th>\n",
       "      <th>sn</th>\n",
       "    </tr>\n",
       "    <tr>\n",
       "      <th>sr</th>\n",
       "      <th>tr</th>\n",
       "      <th></th>\n",
       "    </tr>\n",
       "  </thead>\n",
       "  <tbody>\n",
       "    <tr>\n",
       "      <th>0</th>\n",
       "      <th>0</th>\n",
       "      <td>28</td>\n",
       "    </tr>\n",
       "  </tbody>\n",
       "</table>\n",
       "</div>"
      ],
      "text/plain": [
       "       sn\n",
       "sr tr    \n",
       "0  0   28"
      ]
     },
     "execution_count": 74,
     "metadata": {},
     "output_type": "execute_result"
    }
   ],
   "source": [
    "stt(bad, 4, 1)"
   ]
  },
  {
   "cell_type": "code",
   "execution_count": 84,
   "id": "cd9e1df0-72c0-44f9-a3ea-57bc9e770c87",
   "metadata": {
    "tags": []
   },
   "outputs": [
    {
     "data": {
      "text/plain": [
       "Src  Tr\n",
       "10   1     1\n",
       "30   0     1\n",
       "34   1     1\n",
       "36   1     3\n",
       "38   0     1\n",
       "     1     1\n",
       "40   0     1\n",
       "42   1     1\n",
       "44   0     2\n",
       "     1     1\n",
       "46   0     1\n",
       "     1     1\n",
       "48   0     1\n",
       "50   0     1\n",
       "Name: Tgt, dtype: int64"
      ]
     },
     "execution_count": 84,
     "metadata": {},
     "output_type": "execute_result"
    }
   ],
   "source": [
    "bad.loc[bad.Sr==0].groupby(['Src', 'Tr']).Tgt.count()"
   ]
  },
  {
   "cell_type": "code",
   "execution_count": 79,
   "id": "9cea022b-3c70-4d39-a0df-dc534e31093b",
   "metadata": {
    "jupyter": {
     "source_hidden": true
    },
    "tags": []
   },
   "outputs": [],
   "source": [
    "lg = \"\"\"sr called: r0 t0 s4 m1\n",
    "sr called: r0 t1 s2 m1\n",
    "sr called: r0 t0 s8 m1\n",
    "sr called: r0 t1 s6 m1\n",
    "sr called: r0 t0 s12 m1\n",
    "sr called: r0 t1 s10 m1\n",
    "sr called: r0 t0 s16 m1\n",
    "r0 t1 s10 m1 l2 tr1\n",
    "sr called: r0 t0 s20 m1\n",
    "r0 t1 s10 m1 l2 tr1\n",
    "sr called: r0 t0 s24 m1\n",
    "sr called: r0 t1 s14 m1\n",
    "sr called: r0 t0 s28 m1\n",
    "sr called: r0 t1 s18 m1\n",
    "sr called: r0 t0 s32 m1\n",
    "sr called: r0 t1 s22 m1\n",
    "sr called: r0 t0 s36 m1\n",
    "sr called: r0 t1 s26 m1\n",
    "r0 t0 s36 m1 l5 tr1\n",
    "sr called: r0 t1 s30 m1\n",
    "r0 t0 s36 m1 l5 tr1\n",
    "r0 t1 s30 m1 l2 tr0\n",
    "sr called: r0 t0 s40 m1\n",
    "r0 t1 s30 m1 l2 tr0\n",
    "r0 t0 s40 m1 l12 tr0\n",
    "sr called: r0 t1 s34 m1\n",
    "r0 t0 s40 m1 l12 tr0\n",
    "r0 t1 s34 m1 l4 tr1\n",
    "sr called: r0 t0 s44 m1\n",
    "r0 t1 s34 m1 l4 tr1\n",
    "r0 t0 s44 m1 l7 tr0\n",
    "sr called: r0 t1 s38 m1\n",
    "r0 t0 s44 m1 l17 tr1\n",
    "r0 t1 s38 m1 l5 tr0\n",
    "r0 t0 s44 m1 l7 tr0\n",
    "r0 t1 s38 m1 l15 tr1\n",
    "r0 t0 s44 m1 l17 tr1\n",
    "r0 t1 s38 m1 l5 tr0\n",
    "sr called: r0 t0 s48 m1\n",
    "r0 t1 s38 m1 l15 tr1\n",
    "r0 t0 s48 m1 l15 tr0\n",
    "sr called: r0 t1 s42 m1\n",
    "r0 t0 s48 m1 l15 tr0\n",
    "r0 t1 s42 m1 l16 tr1\n",
    "r0 t1 s42 m1 l16 tr1\n",
    "sr called: r0 t1 s46 m1\n",
    "r0 t1 s46 m1 l8 tr0\n",
    "r0 t1 s46 m1 l8 tr1\n",
    "r0 t1 s46 m1 l8 tr0\n",
    "r0 t1 s46 m1 l8 tr1\n",
    "sr called: r0 t1 s50 m1\n",
    "r0 t1 s50 m1 l17 tr0\n",
    "r0 t1 s50 m1 l17 tr0\"\"\"\n"
   ]
  },
  {
   "cell_type": "code",
   "execution_count": 83,
   "id": "dc4d3e43-542e-416b-a11a-37f9d7f8e56f",
   "metadata": {
    "tags": []
   },
   "outputs": [
    {
     "data": {
      "text/plain": [
       "['r0 t0 s36 m1 l5 tr1',\n",
       " 'r0 t0 s36 m1 l5 tr1',\n",
       " 'r0 t0 s40 m1 l12 tr0',\n",
       " 'r0 t0 s40 m1 l12 tr0',\n",
       " 'r0 t0 s44 m1 l17 tr1',\n",
       " 'r0 t0 s44 m1 l17 tr1',\n",
       " 'r0 t0 s44 m1 l7 tr0',\n",
       " 'r0 t0 s44 m1 l7 tr0',\n",
       " 'r0 t0 s48 m1 l15 tr0',\n",
       " 'r0 t0 s48 m1 l15 tr0',\n",
       " 'r0 t1 s10 m1 l2 tr1',\n",
       " 'r0 t1 s10 m1 l2 tr1',\n",
       " 'r0 t1 s30 m1 l2 tr0',\n",
       " 'r0 t1 s30 m1 l2 tr0',\n",
       " 'r0 t1 s34 m1 l4 tr1',\n",
       " 'r0 t1 s34 m1 l4 tr1',\n",
       " 'r0 t1 s38 m1 l15 tr1',\n",
       " 'r0 t1 s38 m1 l15 tr1',\n",
       " 'r0 t1 s38 m1 l5 tr0',\n",
       " 'r0 t1 s38 m1 l5 tr0',\n",
       " 'r0 t1 s42 m1 l16 tr1',\n",
       " 'r0 t1 s42 m1 l16 tr1',\n",
       " 'r0 t1 s46 m1 l8 tr0',\n",
       " 'r0 t1 s46 m1 l8 tr0',\n",
       " 'r0 t1 s46 m1 l8 tr1',\n",
       " 'r0 t1 s46 m1 l8 tr1',\n",
       " 'r0 t1 s50 m1 l17 tr0',\n",
       " 'r0 t1 s50 m1 l17 tr0']"
      ]
     },
     "execution_count": 83,
     "metadata": {},
     "output_type": "execute_result"
    }
   ],
   "source": [
    "sorted([l for l in lg.splitlines() if not l.startswith('sr')])"
   ]
  },
  {
   "cell_type": "code",
   "execution_count": null,
   "id": "4336e6db-1b31-4f13-bed9-399eb9e0cff0",
   "metadata": {},
   "outputs": [],
   "source": []
  }
 ],
 "metadata": {
  "kernelspec": {
   "display_name": "Python 3 (ipykernel)",
   "language": "python",
   "name": "python3"
  },
  "language_info": {
   "codemirror_mode": {
    "name": "ipython",
    "version": 3
   },
   "file_extension": ".py",
   "mimetype": "text/x-python",
   "name": "python",
   "nbconvert_exporter": "python",
   "pygments_lexer": "ipython3",
   "version": "3.10.9"
  }
 },
 "nbformat": 4,
 "nbformat_minor": 5
}
