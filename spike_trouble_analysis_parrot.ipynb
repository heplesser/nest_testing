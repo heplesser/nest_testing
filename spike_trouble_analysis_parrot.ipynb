{
 "cells": [
  {
   "cell_type": "code",
   "execution_count": 1,
   "id": "02e50415-1588-4e2e-9d35-21a6a5109fe0",
   "metadata": {
    "tags": []
   },
   "outputs": [],
   "source": [
    "import pandas as pd"
   ]
  },
  {
   "cell_type": "code",
   "execution_count": 2,
   "id": "098ac883-32f8-4545-9620-192cebd7a79e",
   "metadata": {
    "tags": []
   },
   "outputs": [],
   "source": [
    "d1 = pd.read_csv('data/dm_01_all.csv').set_index(['times']).sort_index()\n",
    "d2 = pd.read_csv('data/dm_02_all.csv').set_index(['times']).sort_index()"
   ]
  },
  {
   "cell_type": "code",
   "execution_count": 3,
   "id": "9578f78f-e3a1-4e99-b6b5-65afb93e988f",
   "metadata": {
    "tags": []
   },
   "outputs": [
    {
     "data": {
      "text/plain": [
       "50"
      ]
     },
     "execution_count": 3,
     "metadata": {},
     "output_type": "execute_result"
    }
   ],
   "source": [
    "len(d2.loc[0.2].sort_values('senders'))"
   ]
  },
  {
   "cell_type": "code",
   "execution_count": 4,
   "id": "da8e8909-d0c3-4c38-813e-e41826351409",
   "metadata": {
    "tags": []
   },
   "outputs": [],
   "source": [
    "s3_1 = d1.loc[0.3].sort_values('senders')\n",
    "s3_2 = d2.loc[0.3].sort_values('senders')"
   ]
  },
  {
   "cell_type": "code",
   "execution_count": 5,
   "id": "a6ca3337-4eb5-403e-90c5-cb89d4b9578f",
   "metadata": {
    "tags": []
   },
   "outputs": [],
   "source": [
    "eq_next = s3_2.iloc[1:].senders == s3_2.iloc[:-1].senders"
   ]
  },
  {
   "cell_type": "code",
   "execution_count": 6,
   "id": "561fe4e1-9092-452a-8c3a-f24ef2765186",
   "metadata": {
    "tags": []
   },
   "outputs": [
    {
     "data": {
      "text/plain": [
       "times\n",
       "0.3     1\n",
       "0.3     6\n",
       "0.3     8\n",
       "0.3    13\n",
       "0.3    15\n",
       "0.3    22\n",
       "0.3    24\n",
       "0.3    27\n",
       "0.3    31\n",
       "0.3    33\n",
       "0.3    40\n",
       "0.3    41\n",
       "0.3    42\n",
       "0.3    44\n",
       "0.3    46\n",
       "0.3    47\n",
       "0.3    49\n",
       "Name: senders, dtype: int64"
      ]
     },
     "execution_count": 6,
     "metadata": {},
     "output_type": "execute_result"
    }
   ],
   "source": [
    "s3_2.iloc[1:].loc[eq_next].senders"
   ]
  },
  {
   "cell_type": "code",
   "execution_count": 7,
   "id": "47f378d4-8641-4860-9979-f2221c4885b4",
   "metadata": {
    "tags": []
   },
   "outputs": [],
   "source": [
    "bad_sources = [10, 49, 41, 41, 9, 44, 19, 46, 9, 25, 11, 33, 46, 37,\n",
    "               36, 27, 45, 29, 15, 27, 21, 50, 27, 38, 3, 5, 38, 3,\n",
    "               41, 49, 42, 37, 36, 45, 5, 3, 21, 29, 9, 30, 34, 40,\n",
    "               35, 44, 41, 48, 44, 27, 36, 47]"
   ]
  },
  {
   "cell_type": "code",
   "execution_count": 8,
   "id": "bc5f0b65-b97d-4592-b470-62d2db3685f6",
   "metadata": {
    "tags": []
   },
   "outputs": [],
   "source": [
    "good_sources = [45, 50, 37, 13, 47, 29, 9, 46, 15, 10, 15, 38, 34,\n",
    "                29, 47, 45, 14, 23, 35, 1, 44, 3, 20, 46, 46, 13, 3,\n",
    "                49, 3, 48, 5, 9, 15, 28, 30, 25, 40, 30, 16, 3, 40,\n",
    "                40, 24, 40, 40, 17, 50, 32, 43, 42 ]"
   ]
  },
  {
   "cell_type": "code",
   "execution_count": 9,
   "id": "ea2037da-c592-4a9c-8078-06d483884c34",
   "metadata": {
    "tags": []
   },
   "outputs": [],
   "source": [
    "tgts = list(range(1, 51))"
   ]
  },
  {
   "cell_type": "code",
   "execution_count": 10,
   "id": "e9e4628e-5f90-4060-b6d4-09d7a0785456",
   "metadata": {
    "tags": []
   },
   "outputs": [],
   "source": [
    "bad = pd.DataFrame(zip(bad_sources, tgts), columns=['Src', 'Tgt'])\n",
    "good = pd.DataFrame(zip(good_sources, tgts), columns=['Src', 'Tgt'])"
   ]
  },
  {
   "cell_type": "code",
   "execution_count": 11,
   "id": "fe7476a9-100b-4b69-953d-6475e9b4ffd2",
   "metadata": {
    "tags": []
   },
   "outputs": [],
   "source": [
    "def add_vp(conns):\n",
    "    conns['Sv'] = conns.Src % 4\n",
    "    conns['Tv'] = conns.Tgt % 4\n",
    "\n",
    "    conns['Sr'] = conns.Sv % 2\n",
    "    conns['Tr'] = conns.Tv % 2\n",
    "\n",
    "    conns['St'] = (conns.Sv // 2) % 2\n",
    "    conns['Tt'] = (conns.Tv // 2) % 2\n",
    "    \n",
    "    return conns"
   ]
  },
  {
   "cell_type": "code",
   "execution_count": 12,
   "id": "5224fff8-af34-4e84-b6dd-2beb05f0d09d",
   "metadata": {
    "tags": []
   },
   "outputs": [],
   "source": [
    "bad = add_vp(bad)\n",
    "good = add_vp(good)"
   ]
  },
  {
   "cell_type": "code",
   "execution_count": 13,
   "id": "80c21c69-d3cf-45b4-83c2-5deae3900c2f",
   "metadata": {
    "tags": []
   },
   "outputs": [
    {
     "name": "stdout",
     "output_type": "stream",
     "text": [
      "0 0 8\n",
      "0 1 9\n",
      "1 0 17\n",
      "1 1 16\n"
     ]
    }
   ],
   "source": [
    "for fr in range(2):\n",
    "    for tr in range(2):\n",
    "        print(fr, tr, sum((bad.Sr == fr) & (bad.Tr == tr)))"
   ]
  },
  {
   "cell_type": "code",
   "execution_count": 14,
   "id": "2b33b3a8-5428-422c-a0aa-136dc3364c62",
   "metadata": {
    "tags": []
   },
   "outputs": [
    {
     "name": "stdout",
     "output_type": "stream",
     "text": [
      "0 0 12\n",
      "0 1 12\n",
      "1 0 13\n",
      "1 1 13\n"
     ]
    }
   ],
   "source": [
    "for fr in range(2):\n",
    "    for tr in range(2):\n",
    "        print(fr, tr, sum((good.Sr == fr) & (good.Tr == tr)))"
   ]
  },
  {
   "cell_type": "code",
   "execution_count": 15,
   "id": "c0df12c6-355a-4665-8950-6114239d4ece",
   "metadata": {
    "tags": []
   },
   "outputs": [
    {
     "data": {
      "text/plain": [
       "32"
      ]
     },
     "execution_count": 15,
     "metadata": {},
     "output_type": "execute_result"
    }
   ],
   "source": [
    "len(set(good_sources))"
   ]
  },
  {
   "cell_type": "code",
   "execution_count": 16,
   "id": "958afb57-0648-40d5-b418-d79dc9daf600",
   "metadata": {
    "tags": []
   },
   "outputs": [
    {
     "data": {
      "text/plain": [
       "28"
      ]
     },
     "execution_count": 16,
     "metadata": {},
     "output_type": "execute_result"
    }
   ],
   "source": [
    "len(set(bad_sources))"
   ]
  },
  {
   "cell_type": "code",
   "execution_count": 17,
   "id": "ca433d2e-ac99-4c1e-bfdd-f7eb53527f0a",
   "metadata": {
    "tags": []
   },
   "outputs": [],
   "source": [
    "def stt(ct, nvp, nmpi):\n",
    "    ct = ct.copy()\n",
    "    ct['Tr'] = ct.apply(lambda r: (r.Tgt % nvp) % nmpi, axis=1)\n",
    "    ct = pd.DataFrame(list(ct.groupby(['Src', 'Tr']).Tgt.count().index.values), columns=['sn', 'tr'])\n",
    "    ct['sr'] = ct.apply(lambda r: (r.sn % nvp) % nmpi, axis=1)\n",
    "    return ct.groupby(['sr', 'tr']).count()"
   ]
  },
  {
   "cell_type": "code",
   "execution_count": 18,
   "id": "cb5014f5-e6f1-45bc-a5d5-50debd350b76",
   "metadata": {
    "tags": []
   },
   "outputs": [
    {
     "data": {
      "text/html": [
       "<div>\n",
       "<style scoped>\n",
       "    .dataframe tbody tr th:only-of-type {\n",
       "        vertical-align: middle;\n",
       "    }\n",
       "\n",
       "    .dataframe tbody tr th {\n",
       "        vertical-align: top;\n",
       "    }\n",
       "\n",
       "    .dataframe thead th {\n",
       "        text-align: right;\n",
       "    }\n",
       "</style>\n",
       "<table border=\"1\" class=\"dataframe\">\n",
       "  <thead>\n",
       "    <tr style=\"text-align: right;\">\n",
       "      <th></th>\n",
       "      <th></th>\n",
       "      <th>sn</th>\n",
       "    </tr>\n",
       "    <tr>\n",
       "      <th>sr</th>\n",
       "      <th>tr</th>\n",
       "      <th></th>\n",
       "    </tr>\n",
       "  </thead>\n",
       "  <tbody>\n",
       "    <tr>\n",
       "      <th rowspan=\"2\" valign=\"top\">0</th>\n",
       "      <th>0</th>\n",
       "      <td>7</td>\n",
       "    </tr>\n",
       "    <tr>\n",
       "      <th>1</th>\n",
       "      <td>7</td>\n",
       "    </tr>\n",
       "    <tr>\n",
       "      <th rowspan=\"2\" valign=\"top\">1</th>\n",
       "      <th>0</th>\n",
       "      <td>11</td>\n",
       "    </tr>\n",
       "    <tr>\n",
       "      <th>1</th>\n",
       "      <td>11</td>\n",
       "    </tr>\n",
       "  </tbody>\n",
       "</table>\n",
       "</div>"
      ],
      "text/plain": [
       "       sn\n",
       "sr tr    \n",
       "0  0    7\n",
       "   1    7\n",
       "1  0   11\n",
       "   1   11"
      ]
     },
     "execution_count": 18,
     "metadata": {},
     "output_type": "execute_result"
    }
   ],
   "source": [
    "stt(bad, 4, 2)"
   ]
  },
  {
   "cell_type": "code",
   "execution_count": 19,
   "id": "6d63115d-25f5-43e7-867a-69ec2de276f6",
   "metadata": {
    "tags": []
   },
   "outputs": [
    {
     "data": {
      "text/html": [
       "<div>\n",
       "<style scoped>\n",
       "    .dataframe tbody tr th:only-of-type {\n",
       "        vertical-align: middle;\n",
       "    }\n",
       "\n",
       "    .dataframe tbody tr th {\n",
       "        vertical-align: top;\n",
       "    }\n",
       "\n",
       "    .dataframe thead th {\n",
       "        text-align: right;\n",
       "    }\n",
       "</style>\n",
       "<table border=\"1\" class=\"dataframe\">\n",
       "  <thead>\n",
       "    <tr style=\"text-align: right;\">\n",
       "      <th></th>\n",
       "      <th></th>\n",
       "      <th>sn</th>\n",
       "    </tr>\n",
       "    <tr>\n",
       "      <th>sr</th>\n",
       "      <th>tr</th>\n",
       "      <th></th>\n",
       "    </tr>\n",
       "  </thead>\n",
       "  <tbody>\n",
       "    <tr>\n",
       "      <th rowspan=\"2\" valign=\"top\">0</th>\n",
       "      <th>0</th>\n",
       "      <td>10</td>\n",
       "    </tr>\n",
       "    <tr>\n",
       "      <th>1</th>\n",
       "      <td>10</td>\n",
       "    </tr>\n",
       "    <tr>\n",
       "      <th rowspan=\"2\" valign=\"top\">1</th>\n",
       "      <th>0</th>\n",
       "      <td>10</td>\n",
       "    </tr>\n",
       "    <tr>\n",
       "      <th>1</th>\n",
       "      <td>9</td>\n",
       "    </tr>\n",
       "  </tbody>\n",
       "</table>\n",
       "</div>"
      ],
      "text/plain": [
       "       sn\n",
       "sr tr    \n",
       "0  0   10\n",
       "   1   10\n",
       "1  0   10\n",
       "   1    9"
      ]
     },
     "execution_count": 19,
     "metadata": {},
     "output_type": "execute_result"
    }
   ],
   "source": [
    "stt(good, 4, 2)"
   ]
  },
  {
   "cell_type": "code",
   "execution_count": 20,
   "id": "8e65e3a4-8a41-4376-9b31-0bafb739af49",
   "metadata": {
    "tags": []
   },
   "outputs": [
    {
     "data": {
      "text/html": [
       "<div>\n",
       "<style scoped>\n",
       "    .dataframe tbody tr th:only-of-type {\n",
       "        vertical-align: middle;\n",
       "    }\n",
       "\n",
       "    .dataframe tbody tr th {\n",
       "        vertical-align: top;\n",
       "    }\n",
       "\n",
       "    .dataframe thead th {\n",
       "        text-align: right;\n",
       "    }\n",
       "</style>\n",
       "<table border=\"1\" class=\"dataframe\">\n",
       "  <thead>\n",
       "    <tr style=\"text-align: right;\">\n",
       "      <th></th>\n",
       "      <th></th>\n",
       "      <th>sn</th>\n",
       "    </tr>\n",
       "    <tr>\n",
       "      <th>sr</th>\n",
       "      <th>tr</th>\n",
       "      <th></th>\n",
       "    </tr>\n",
       "  </thead>\n",
       "  <tbody>\n",
       "    <tr>\n",
       "      <th>0</th>\n",
       "      <th>0</th>\n",
       "      <td>32</td>\n",
       "    </tr>\n",
       "  </tbody>\n",
       "</table>\n",
       "</div>"
      ],
      "text/plain": [
       "       sn\n",
       "sr tr    \n",
       "0  0   32"
      ]
     },
     "execution_count": 20,
     "metadata": {},
     "output_type": "execute_result"
    }
   ],
   "source": [
    "stt(good, 4, 1)"
   ]
  },
  {
   "cell_type": "code",
   "execution_count": 21,
   "id": "ffe0dd82-920a-456a-8d2b-eab27b214863",
   "metadata": {
    "tags": []
   },
   "outputs": [
    {
     "data": {
      "text/html": [
       "<div>\n",
       "<style scoped>\n",
       "    .dataframe tbody tr th:only-of-type {\n",
       "        vertical-align: middle;\n",
       "    }\n",
       "\n",
       "    .dataframe tbody tr th {\n",
       "        vertical-align: top;\n",
       "    }\n",
       "\n",
       "    .dataframe thead th {\n",
       "        text-align: right;\n",
       "    }\n",
       "</style>\n",
       "<table border=\"1\" class=\"dataframe\">\n",
       "  <thead>\n",
       "    <tr style=\"text-align: right;\">\n",
       "      <th></th>\n",
       "      <th></th>\n",
       "      <th>sn</th>\n",
       "    </tr>\n",
       "    <tr>\n",
       "      <th>sr</th>\n",
       "      <th>tr</th>\n",
       "      <th></th>\n",
       "    </tr>\n",
       "  </thead>\n",
       "  <tbody>\n",
       "    <tr>\n",
       "      <th>0</th>\n",
       "      <th>0</th>\n",
       "      <td>28</td>\n",
       "    </tr>\n",
       "  </tbody>\n",
       "</table>\n",
       "</div>"
      ],
      "text/plain": [
       "       sn\n",
       "sr tr    \n",
       "0  0   28"
      ]
     },
     "execution_count": 21,
     "metadata": {},
     "output_type": "execute_result"
    }
   ],
   "source": [
    "stt(bad, 4, 1)"
   ]
  },
  {
   "cell_type": "code",
   "execution_count": 22,
   "id": "cd9e1df0-72c0-44f9-a3ea-57bc9e770c87",
   "metadata": {
    "tags": []
   },
   "outputs": [
    {
     "data": {
      "text/plain": [
       "Src  Tr\n",
       "10   1     1\n",
       "30   0     1\n",
       "34   1     1\n",
       "36   1     3\n",
       "38   0     1\n",
       "     1     1\n",
       "40   0     1\n",
       "42   1     1\n",
       "44   0     2\n",
       "     1     1\n",
       "46   0     1\n",
       "     1     1\n",
       "48   0     1\n",
       "50   0     1\n",
       "Name: Tgt, dtype: int64"
      ]
     },
     "execution_count": 22,
     "metadata": {},
     "output_type": "execute_result"
    }
   ],
   "source": [
    "bad.loc[bad.Sr==0].groupby(['Src', 'Tr']).Tgt.count()"
   ]
  },
  {
   "cell_type": "code",
   "execution_count": 23,
   "id": "9cea022b-3c70-4d39-a0df-dc534e31093b",
   "metadata": {
    "jupyter": {
     "source_hidden": true
    },
    "tags": []
   },
   "outputs": [],
   "source": [
    "lg = \"\"\"sr called: r0 t0 s4 m1\n",
    "sr called: r0 t1 s2 m1\n",
    "sr called: r0 t0 s8 m1\n",
    "sr called: r0 t1 s6 m1\n",
    "sr called: r0 t0 s12 m1\n",
    "sr called: r0 t1 s10 m1\n",
    "sr called: r0 t0 s16 m1\n",
    "r0 t1 s10 m1 l2 tr1\n",
    "sr called: r0 t0 s20 m1\n",
    "r0 t1 s10 m1 l2 tr1\n",
    "sr called: r0 t0 s24 m1\n",
    "sr called: r0 t1 s14 m1\n",
    "sr called: r0 t0 s28 m1\n",
    "sr called: r0 t1 s18 m1\n",
    "sr called: r0 t0 s32 m1\n",
    "sr called: r0 t1 s22 m1\n",
    "sr called: r0 t0 s36 m1\n",
    "sr called: r0 t1 s26 m1\n",
    "r0 t0 s36 m1 l5 tr1\n",
    "sr called: r0 t1 s30 m1\n",
    "r0 t0 s36 m1 l5 tr1\n",
    "r0 t1 s30 m1 l2 tr0\n",
    "sr called: r0 t0 s40 m1\n",
    "r0 t1 s30 m1 l2 tr0\n",
    "r0 t0 s40 m1 l12 tr0\n",
    "sr called: r0 t1 s34 m1\n",
    "r0 t0 s40 m1 l12 tr0\n",
    "r0 t1 s34 m1 l4 tr1\n",
    "sr called: r0 t0 s44 m1\n",
    "r0 t1 s34 m1 l4 tr1\n",
    "r0 t0 s44 m1 l7 tr0\n",
    "sr called: r0 t1 s38 m1\n",
    "r0 t0 s44 m1 l17 tr1\n",
    "r0 t1 s38 m1 l5 tr0\n",
    "r0 t0 s44 m1 l7 tr0\n",
    "r0 t1 s38 m1 l15 tr1\n",
    "r0 t0 s44 m1 l17 tr1\n",
    "r0 t1 s38 m1 l5 tr0\n",
    "sr called: r0 t0 s48 m1\n",
    "r0 t1 s38 m1 l15 tr1\n",
    "r0 t0 s48 m1 l15 tr0\n",
    "sr called: r0 t1 s42 m1\n",
    "r0 t0 s48 m1 l15 tr0\n",
    "r0 t1 s42 m1 l16 tr1\n",
    "r0 t1 s42 m1 l16 tr1\n",
    "sr called: r0 t1 s46 m1\n",
    "r0 t1 s46 m1 l8 tr0\n",
    "r0 t1 s46 m1 l8 tr1\n",
    "r0 t1 s46 m1 l8 tr0\n",
    "r0 t1 s46 m1 l8 tr1\n",
    "sr called: r0 t1 s50 m1\n",
    "r0 t1 s50 m1 l17 tr0\n",
    "r0 t1 s50 m1 l17 tr0\"\"\"\n"
   ]
  },
  {
   "cell_type": "code",
   "execution_count": 25,
   "id": "dc4d3e43-542e-416b-a11a-37f9d7f8e56f",
   "metadata": {
    "tags": []
   },
   "outputs": [
    {
     "data": {
      "text/plain": [
       "['r0 t0 s36 m1 l5 tr1',\n",
       " 'r0 t0 s36 m1 l5 tr1',\n",
       " 'r0 t0 s40 m1 l12 tr0',\n",
       " 'r0 t0 s40 m1 l12 tr0',\n",
       " 'r0 t0 s44 m1 l17 tr1',\n",
       " 'r0 t0 s44 m1 l17 tr1',\n",
       " 'r0 t0 s44 m1 l7 tr0',\n",
       " 'r0 t0 s44 m1 l7 tr0',\n",
       " 'r0 t0 s48 m1 l15 tr0',\n",
       " 'r0 t0 s48 m1 l15 tr0',\n",
       " 'r0 t1 s10 m1 l2 tr1',\n",
       " 'r0 t1 s10 m1 l2 tr1',\n",
       " 'r0 t1 s30 m1 l2 tr0',\n",
       " 'r0 t1 s30 m1 l2 tr0',\n",
       " 'r0 t1 s34 m1 l4 tr1',\n",
       " 'r0 t1 s34 m1 l4 tr1',\n",
       " 'r0 t1 s38 m1 l15 tr1',\n",
       " 'r0 t1 s38 m1 l15 tr1',\n",
       " 'r0 t1 s38 m1 l5 tr0',\n",
       " 'r0 t1 s38 m1 l5 tr0',\n",
       " 'r0 t1 s42 m1 l16 tr1',\n",
       " 'r0 t1 s42 m1 l16 tr1',\n",
       " 'r0 t1 s46 m1 l8 tr0',\n",
       " 'r0 t1 s46 m1 l8 tr0',\n",
       " 'r0 t1 s46 m1 l8 tr1',\n",
       " 'r0 t1 s46 m1 l8 tr1',\n",
       " 'r0 t1 s50 m1 l17 tr0',\n",
       " 'r0 t1 s50 m1 l17 tr0']"
      ]
     },
     "execution_count": 25,
     "metadata": {},
     "output_type": "execute_result"
    }
   ],
   "source": [
    "sorted([l for l in lg.splitlines() if not l.startswith('sr')])"
   ]
  },
  {
   "cell_type": "code",
   "execution_count": 63,
   "id": "4336e6db-1b31-4f13-bed9-399eb9e0cff0",
   "metadata": {
    "tags": []
   },
   "outputs": [],
   "source": [
    "def source_table(src, nvp, nr):\n",
    "    stab = [[[] for _ in range(nvp//nr)] for _ in range(nr)]\n",
    "    for ix, s in enumerate(src):\n",
    "        t = ix + 1\n",
    "            \n",
    "        sv, tv = s % nvp, t % nvp\n",
    "        sr, tr = sv % nr, tv % nr\n",
    "        st, tt = sv // nr, tv // nr\n",
    "\n",
    "        stab[tr][tt].append((s, t, tt))\n",
    "    for l in stab:\n",
    "        for ll in l:\n",
    "            ll.sort()\n",
    "    return stab"
   ]
  },
  {
   "cell_type": "code",
   "execution_count": 69,
   "id": "750ca075-80d1-4d2e-a0f9-917d91952dcb",
   "metadata": {
    "tags": []
   },
   "outputs": [],
   "source": [
    "def compress_one_thread(ttab):\n",
    "    ctab = []\n",
    "    lcid = -1\n",
    "    last_gid = -1\n",
    "    for s, t, tt in ttab:\n",
    "        lcid += 1\n",
    "        if s != last_gid:\n",
    "            last_gid = s\n",
    "            ctab.append((s, (tt, lcid)))\n",
    "    return ctab\n",
    "\n",
    "def compress_sources(stab):\n",
    "    return [[compress_one_thread(ttab) for ttab in rtab] for rtab in stab]"
   ]
  },
  {
   "cell_type": "code",
   "execution_count": 85,
   "id": "1e969e97-ca4b-4bf4-8536-1ce34c4de602",
   "metadata": {
    "tags": []
   },
   "outputs": [],
   "source": [
    "def fc_per_rank(ctr):\n",
    "    cmap = {}\n",
    "    csd = []\n",
    "    for tix, cs in enumerate(ctr):\n",
    "        for src, (tt, lcid) in cs:\n",
    "            assert tix == tt\n",
    "            if src not in cmap:\n",
    "                cmap[src] = len(csd)\n",
    "                csd.append(list([] for _ in range(len(ctr))))\n",
    "            six = cmap[src]\n",
    "            csd[six][tt].append({'lcid': lcid, 'tt': tt})\n",
    "    return cmap, csd\n",
    "\n",
    "def final_compression(ctab):\n",
    "    return [fc_per_rank(ctr) for ctr in ctab]"
   ]
  },
  {
   "cell_type": "code",
   "execution_count": 81,
   "id": "8a49dcd0-e011-4cd0-9ef6-0cb4dfc6672f",
   "metadata": {
    "tags": []
   },
   "outputs": [
    {
     "name": "stdout",
     "output_type": "stream",
     "text": [
      "Automatic pdb calling has been turned ON\n"
     ]
    }
   ],
   "source": [
    "%pdb"
   ]
  },
  {
   "cell_type": "code",
   "execution_count": 86,
   "id": "8359e2fb-6853-4247-a979-67bff7da4e53",
   "metadata": {
    "tags": []
   },
   "outputs": [],
   "source": [
    "stb2 = source_table(bad_sources, 4, 2)\n",
    "cstb2 = compress_sources(stb2)\n",
    "ftb2 = final_compression(cstb2)"
   ]
  },
  {
   "cell_type": "code",
   "execution_count": 87,
   "id": "0a4172a1-185a-44da-9694-7e6ed2387e80",
   "metadata": {
    "tags": []
   },
   "outputs": [
    {
     "data": {
      "text/plain": [
       "[({3: 0,\n",
       "   27: 1,\n",
       "   30: 2,\n",
       "   33: 3,\n",
       "   37: 4,\n",
       "   38: 5,\n",
       "   41: 6,\n",
       "   44: 7,\n",
       "   46: 8,\n",
       "   5: 9,\n",
       "   25: 10,\n",
       "   29: 11,\n",
       "   40: 12,\n",
       "   45: 13,\n",
       "   47: 14,\n",
       "   48: 15,\n",
       "   49: 16,\n",
       "   50: 17},\n",
       "  [[[{'lcid': 0, 'tt': 0}], []],\n",
       "   [[{'lcid': 2, 'tt': 0}], []],\n",
       "   [[{'lcid': 5, 'tt': 0}], []],\n",
       "   [[{'lcid': 6, 'tt': 0}], []],\n",
       "   [[{'lcid': 7, 'tt': 0}], [{'lcid': 4, 'tt': 1}]],\n",
       "   [[{'lcid': 8, 'tt': 0}], []],\n",
       "   [[{'lcid': 9, 'tt': 0}], []],\n",
       "   [[{'lcid': 10, 'tt': 0}], [{'lcid': 6, 'tt': 1}]],\n",
       "   [[{'lcid': 11, 'tt': 0}], []],\n",
       "   [[], [{'lcid': 0, 'tt': 1}]],\n",
       "   [[], [{'lcid': 1, 'tt': 1}]],\n",
       "   [[], [{'lcid': 2, 'tt': 1}]],\n",
       "   [[], [{'lcid': 5, 'tt': 1}]],\n",
       "   [[], [{'lcid': 7, 'tt': 1}]],\n",
       "   [[], [{'lcid': 8, 'tt': 1}]],\n",
       "   [[], [{'lcid': 9, 'tt': 1}]],\n",
       "   [[], [{'lcid': 10, 'tt': 1}]],\n",
       "   [[], [{'lcid': 12, 'tt': 1}]]]),\n",
       " ({3: 0,\n",
       "   9: 1,\n",
       "   10: 2,\n",
       "   21: 3,\n",
       "   34: 4,\n",
       "   36: 5,\n",
       "   41: 6,\n",
       "   45: 7,\n",
       "   46: 8,\n",
       "   5: 9,\n",
       "   11: 10,\n",
       "   15: 11,\n",
       "   19: 12,\n",
       "   27: 13,\n",
       "   35: 14,\n",
       "   38: 15,\n",
       "   42: 16,\n",
       "   44: 17},\n",
       "  [[[{'lcid': 0, 'tt': 0}], []],\n",
       "   [[{'lcid': 1, 'tt': 0}], [{'lcid': 1, 'tt': 1}]],\n",
       "   [[{'lcid': 3, 'tt': 0}], []],\n",
       "   [[{'lcid': 4, 'tt': 0}], []],\n",
       "   [[{'lcid': 6, 'tt': 0}], []],\n",
       "   [[{'lcid': 7, 'tt': 0}], [{'lcid': 7, 'tt': 1}]],\n",
       "   [[{'lcid': 9, 'tt': 0}], [{'lcid': 9, 'tt': 1}]],\n",
       "   [[{'lcid': 11, 'tt': 0}], []],\n",
       "   [[{'lcid': 12, 'tt': 0}], []],\n",
       "   [[], [{'lcid': 0, 'tt': 1}]],\n",
       "   [[], [{'lcid': 2, 'tt': 1}]],\n",
       "   [[], [{'lcid': 3, 'tt': 1}]],\n",
       "   [[], [{'lcid': 4, 'tt': 1}]],\n",
       "   [[], [{'lcid': 5, 'tt': 1}]],\n",
       "   [[], [{'lcid': 6, 'tt': 1}]],\n",
       "   [[], [{'lcid': 8, 'tt': 1}]],\n",
       "   [[], [{'lcid': 10, 'tt': 1}]],\n",
       "   [[], [{'lcid': 11, 'tt': 1}]]])]"
      ]
     },
     "execution_count": 87,
     "metadata": {},
     "output_type": "execute_result"
    }
   ],
   "source": [
    "ftb2"
   ]
  },
  {
   "cell_type": "code",
   "execution_count": 88,
   "id": "bc58237b-4591-47b7-9d57-8bfb6759a0ec",
   "metadata": {
    "tags": []
   },
   "outputs": [
    {
     "data": {
      "text/plain": [
       "[[[(3, 28, 0),\n",
       "   (3, 36, 0),\n",
       "   (27, 16, 0),\n",
       "   (27, 20, 0),\n",
       "   (27, 48, 0),\n",
       "   (30, 40, 0),\n",
       "   (33, 12, 0),\n",
       "   (37, 32, 0),\n",
       "   (38, 24, 0),\n",
       "   (41, 4, 0),\n",
       "   (44, 44, 0),\n",
       "   (46, 8, 0)],\n",
       "  [(5, 26, 1),\n",
       "   (25, 10, 1),\n",
       "   (29, 18, 1),\n",
       "   (29, 38, 1),\n",
       "   (37, 14, 1),\n",
       "   (40, 42, 1),\n",
       "   (44, 6, 1),\n",
       "   (45, 34, 1),\n",
       "   (47, 50, 1),\n",
       "   (48, 46, 1),\n",
       "   (49, 2, 1),\n",
       "   (49, 30, 1),\n",
       "   (50, 22, 1)]],\n",
       " [[(3, 25, 0),\n",
       "   (9, 5, 0),\n",
       "   (9, 9, 0),\n",
       "   (10, 1, 0),\n",
       "   (21, 21, 0),\n",
       "   (21, 37, 0),\n",
       "   (34, 41, 0),\n",
       "   (36, 33, 0),\n",
       "   (36, 49, 0),\n",
       "   (41, 29, 0),\n",
       "   (41, 45, 0),\n",
       "   (45, 17, 0),\n",
       "   (46, 13, 0)],\n",
       "  [(5, 35, 1),\n",
       "   (9, 39, 1),\n",
       "   (11, 11, 1),\n",
       "   (15, 19, 1),\n",
       "   (19, 7, 1),\n",
       "   (27, 23, 1),\n",
       "   (35, 43, 1),\n",
       "   (36, 15, 1),\n",
       "   (38, 27, 1),\n",
       "   (41, 3, 1),\n",
       "   (42, 31, 1),\n",
       "   (44, 47, 1)]]]"
      ]
     },
     "execution_count": 88,
     "metadata": {},
     "output_type": "execute_result"
    }
   ],
   "source": [
    "stb2"
   ]
  },
  {
   "cell_type": "code",
   "execution_count": 89,
   "id": "bee30601-88a1-4313-8cd1-9569acccca98",
   "metadata": {
    "tags": []
   },
   "outputs": [
    {
     "data": {
      "text/plain": [
       "[[[(3, (0, 0)),\n",
       "   (27, (0, 2)),\n",
       "   (30, (0, 5)),\n",
       "   (33, (0, 6)),\n",
       "   (37, (0, 7)),\n",
       "   (38, (0, 8)),\n",
       "   (41, (0, 9)),\n",
       "   (44, (0, 10)),\n",
       "   (46, (0, 11))],\n",
       "  [(5, (1, 0)),\n",
       "   (25, (1, 1)),\n",
       "   (29, (1, 2)),\n",
       "   (37, (1, 4)),\n",
       "   (40, (1, 5)),\n",
       "   (44, (1, 6)),\n",
       "   (45, (1, 7)),\n",
       "   (47, (1, 8)),\n",
       "   (48, (1, 9)),\n",
       "   (49, (1, 10)),\n",
       "   (50, (1, 12))]],\n",
       " [[(3, (0, 0)),\n",
       "   (9, (0, 1)),\n",
       "   (10, (0, 3)),\n",
       "   (21, (0, 4)),\n",
       "   (34, (0, 6)),\n",
       "   (36, (0, 7)),\n",
       "   (41, (0, 9)),\n",
       "   (45, (0, 11)),\n",
       "   (46, (0, 12))],\n",
       "  [(5, (1, 0)),\n",
       "   (9, (1, 1)),\n",
       "   (11, (1, 2)),\n",
       "   (15, (1, 3)),\n",
       "   (19, (1, 4)),\n",
       "   (27, (1, 5)),\n",
       "   (35, (1, 6)),\n",
       "   (36, (1, 7)),\n",
       "   (38, (1, 8)),\n",
       "   (41, (1, 9)),\n",
       "   (42, (1, 10)),\n",
       "   (44, (1, 11))]]]"
      ]
     },
     "execution_count": 89,
     "metadata": {},
     "output_type": "execute_result"
    }
   ],
   "source": [
    "cstb2"
   ]
  },
  {
   "cell_type": "code",
   "execution_count": null,
   "id": "c644f29d-deaa-4fd7-95c7-c0797012351d",
   "metadata": {},
   "outputs": [],
   "source": []
  }
 ],
 "metadata": {
  "kernelspec": {
   "display_name": "Python 3 (ipykernel)",
   "language": "python",
   "name": "python3"
  },
  "language_info": {
   "codemirror_mode": {
    "name": "ipython",
    "version": 3
   },
   "file_extension": ".py",
   "mimetype": "text/x-python",
   "name": "python",
   "nbconvert_exporter": "python",
   "pygments_lexer": "ipython3",
   "version": "3.9.16"
  }
 },
 "nbformat": 4,
 "nbformat_minor": 5
}
